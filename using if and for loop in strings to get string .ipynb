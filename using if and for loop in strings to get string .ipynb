{
 "cells": [
  {
   "cell_type": "code",
   "execution_count": 16,
   "id": "d98fbd3f",
   "metadata": {},
   "outputs": [
    {
     "name": "stdout",
     "output_type": "stream",
     "text": [
      "enter the letters123456789\n",
      "45\n"
     ]
    }
   ],
   "source": [
    "#write a program in which you can calulate some of all the values\n",
    "numbers=input(\"enter the letters\")\n",
    "count=0\n",
    "for y in numbers:\n",
    "     count=count+int(y)\n",
    "print(count)\n",
    "    "
   ]
  },
  {
   "cell_type": "code",
   "execution_count": 20,
   "id": "44f7c202",
   "metadata": {},
   "outputs": [
    {
     "name": "stdout",
     "output_type": "stream",
     "text": [
      "123456789\n",
      "9\n"
     ]
    }
   ],
   "source": [
    "#write a program to print lenght of variable without using len function\n",
    "length=input(\"\")\n",
    "count=0\n",
    "for y in length:\n",
    "    count=count+1\n",
    "print(count)"
   ]
  },
  {
   "cell_type": "code",
   "execution_count": 23,
   "id": "c249b742",
   "metadata": {},
   "outputs": [
    {
     "name": "stdout",
     "output_type": "stream",
     "text": [
      "enter ur textsalva15465dad\n",
      "['s', 'a', 'l', 'v', 'a', 'd', 'a', 'd']\n"
     ]
    },
    {
     "data": {
      "text/plain": [
       "'salvadad'"
      ]
     },
     "execution_count": 23,
     "metadata": {},
     "output_type": "execute_result"
    }
   ],
   "source": [
    "text=input(\"enter ur text\")\n",
    "alphak=[]\n",
    "for u in text:\n",
    "    if u.isalpha():\n",
    "        alphak.append(u)\n",
    "print(alphak)\n",
    "\"\".join(alphak)\n"
   ]
  },
  {
   "cell_type": "code",
   "execution_count": 24,
   "id": "b6a749e2",
   "metadata": {},
   "outputs": [
    {
     "name": "stdout",
     "output_type": "stream",
     "text": [
      "enter your textADKFUI\n"
     ]
    },
    {
     "data": {
      "text/plain": [
       "'adkfui'"
      ]
     },
     "execution_count": 24,
     "metadata": {},
     "output_type": "execute_result"
    }
   ],
   "source": [
    "#wrtie a program to convert a string to lower case \n",
    "text=input(\"enter your text\")\n",
    "text.lower()"
   ]
  },
  {
   "cell_type": "code",
   "execution_count": 50,
   "id": "c607d46e",
   "metadata": {},
   "outputs": [
    {
     "name": "stdout",
     "output_type": "stream",
     "text": [
      "PYTHON\n",
      " PyThOn\n"
     ]
    }
   ],
   "source": [
    "#WRITE A python program to convert only odd character to lower case\n",
    "text=input(\"\")\n",
    "b=0\n",
    "char=\" \"\n",
    "for y in text:\n",
    "    b=b+1\n",
    "    if b%2!=0:\n",
    "        char=char+y.upper()\n",
    "    else:\n",
    "        char=char+y.lower()\n",
    "print(char)\n",
    "      \n",
    "        \n",
    "\n",
    "    "
   ]
  },
  {
   "cell_type": "code",
   "execution_count": 57,
   "id": "15e51033",
   "metadata": {},
   "outputs": [
    {
     "name": "stdout",
     "output_type": "stream",
     "text": [
      " pYtHoN\n"
     ]
    }
   ],
   "source": [
    "str1=\"PYTHON\"\n",
    "p=\" \"\n",
    "for i in range(6):\n",
    "    if i%2==0:\n",
    "        p=p+str1[i].lower()\n",
    "    else:\n",
    "        p=p+str1[i].upper()\n",
    "print(p)"
   ]
  },
  {
   "cell_type": "code",
   "execution_count": 58,
   "id": "9065f675",
   "metadata": {},
   "outputs": [
    {
     "name": "stdout",
     "output_type": "stream",
     "text": [
      "enter the wordpython\n",
      "PyThOn\n"
     ]
    }
   ],
   "source": [
    "text=input(\"enter the word\")\n",
    "new=\"\"\n",
    "for y in range(len(text)):\n",
    "    if y%2==0:\n",
    "        new=new+text[y].upper()\n",
    "    else:\n",
    "        new=new+text[y].lower()\n",
    "print(new)"
   ]
  },
  {
   "cell_type": "code",
   "execution_count": 2,
   "id": "760578f7",
   "metadata": {},
   "outputs": [
    {
     "name": "stdout",
     "output_type": "stream",
     "text": [
      "enter the wordjava\n",
      "JaVa\n"
     ]
    }
   ],
   "source": [
    "word=input(\"enter the word\")\n",
    "new=\"\"\n",
    "for l in range(len(word)):\n",
    "    if l%2==0:\n",
    "        new=new+word[l].upper()\n",
    "    else:\n",
    "        new=new+word[l].lower()\n",
    "print(new)\n",
    "        \n",
    "        "
   ]
  },
  {
   "cell_type": "code",
   "execution_count": 4,
   "id": "83813035",
   "metadata": {},
   "outputs": [
    {
     "name": "stdout",
     "output_type": "stream",
     "text": [
      "enter the name in even in upper casetonystark\n",
      "tOnYsTaRk\n"
     ]
    }
   ],
   "source": [
    "#to print alpha even numbers in lower in dynamic\n",
    "name=input(\"enter the name in even in upper case\")\n",
    "new=\"\"\n",
    "for m in range(len(name)):\n",
    "    if m%2==0:\n",
    "        new=new+name[m].lower()\n",
    "    elif m%2!=0:\n",
    "        new=new+name[m].upper()\n",
    "print(new)\n",
    "        "
   ]
  },
  {
   "cell_type": "code",
   "execution_count": 9,
   "id": "9840b2c8",
   "metadata": {},
   "outputs": [
    {
     "name": "stdout",
     "output_type": "stream",
     "text": [
      "enter your data=PYTHON\n",
      "python\n"
     ]
    }
   ],
   "source": [
    "#.Write a python program to convert a string to lower case\n",
    "string=input(\"enter your data=\")\n",
    "text=string.lower()\n",
    "print(text)"
   ]
  },
  {
   "cell_type": "code",
   "execution_count": 3,
   "id": "2bb82977",
   "metadata": {},
   "outputs": [
    {
     "name": "stdout",
     "output_type": "stream",
     "text": [
      "enter your text or data=python\n",
      "pYtHoN\n"
     ]
    }
   ],
   "source": [
    "#Write a python program to convert only even indexed characters to lower case Ex:- PYTHONOutput: - pYtHoN\n",
    "l=input(\"enter your text or data=\")\n",
    "new=\"\"\n",
    "for k in range(len(l)):\n",
    "    if k%2==0:\n",
    "        new=new+l[k].lower()\n",
    "    else:\n",
    "        new=new+l[k].upper()\n",
    "print(new)\n",
    "    "
   ]
  },
  {
   "cell_type": "code",
   "execution_count": 7,
   "id": "3dc8ed5d",
   "metadata": {},
   "outputs": [
    {
     "name": "stdout",
     "output_type": "stream",
     "text": [
      "enter the namepython\n",
      " PyThOn\n"
     ]
    }
   ],
   "source": [
    "#2.Write a python program to convert only odd indexed characters to lower case Ex:- PYTHONOutput: - PyThOn\n",
    "k=input(\"enter the name\")\n",
    "one=\" \"\n",
    "for l in range(len(k)):\n",
    "    if l%2!=0:\n",
    "        one=one+k[l].lower()\n",
    "    else:\n",
    "        one=one+k[l].upper()\n",
    "print(one)\n"
   ]
  },
  {
   "cell_type": "code",
   "execution_count": null,
   "id": "a3a60a04",
   "metadata": {},
   "outputs": [],
   "source": [
    "4.Write a python program to convert only odd indexed characters to upper case Ex:- python Output: - pYtHoN"
   ]
  },
  {
   "cell_type": "code",
   "execution_count": 9,
   "id": "1ffcfd2a",
   "metadata": {},
   "outputs": [
    {
     "name": "stdout",
     "output_type": "stream",
     "text": [
      "enter the textpython\n",
      "pYtHoN\n"
     ]
    }
   ],
   "source": [
    "index=input(\"enter the text\")\n",
    "jew=\"\"\n",
    "for n in range(len(index)):\n",
    "    if n%2!=0:\n",
    "        jew=jew+index[n].upper()\n",
    "    else:\n",
    "        jew=jew+index[n].lower()\n",
    "        \n",
    "print(jew)"
   ]
  },
  {
   "cell_type": "code",
   "execution_count": 12,
   "id": "a8341142",
   "metadata": {},
   "outputs": [
    {
     "name": "stdout",
     "output_type": "stream",
     "text": [
      "enter the datapython\n",
      "PyThOn\n"
     ]
    }
   ],
   "source": [
    "#Write a python program to convert only even indexed characters to upper case Ex:- pythonOutput: - PyThOn\n",
    "main=input(\"enter the data\")\n",
    "helpi=\"\"\n",
    "for l in range(len(main)):\n",
    "    if l%2==0:\n",
    "        helpi=helpi+main[l].upper()\n",
    "    else:\n",
    "        helpi=helpi+main[l].lower()\n",
    "print(helpi)\n"
   ]
  },
  {
   "cell_type": "code",
   "execution_count": 18,
   "id": "29d3cf9f",
   "metadata": {},
   "outputs": [
    {
     "name": "stdout",
     "output_type": "stream",
     "text": [
      "enter ur namem.salva\n",
      "enter ur age24\n",
      "enter ur sexmale\n",
      "enter your phone number7799055\n",
      "enter the father namem.narendra\n"
     ]
    },
    {
     "data": {
      "text/plain": [
       "'my name is=m.salva my age24 my sex ismale my phone number is=7799055 my father name ism.narendra'"
      ]
     },
     "execution_count": 18,
     "metadata": {},
     "output_type": "execute_result"
    }
   ],
   "source": [
    "my_name=input(\"enter ur name\")\n",
    "my_age=int(input(\"enter ur age\"))\n",
    "my_sex=input(\"enter ur sex\")\n",
    "my_phonenumber=int(input(\"enter your phone number\"))\n",
    "my_fathername=input(\"enter the father name\")\n",
    "bio_data=(\"my name is={} my age{} my sex is{} my phone number is={} my father name is{}\")\n",
    "bio_data.format(my_name,my_age,my_sex,my_phonenumber,my_fathername)"
   ]
  },
  {
   "cell_type": "code",
   "execution_count": 20,
   "id": "ec3b794a",
   "metadata": {},
   "outputs": [
    {
     "name": "stdout",
     "output_type": "stream",
     "text": [
      "enter your text@@@knbgkjshd\n",
      "3\n"
     ]
    }
   ],
   "source": [
    "repeated=input(\"enter your text\")\n",
    "r=repeated.count(\"@\")\n",
    "print(r)\n"
   ]
  },
  {
   "cell_type": "code",
   "execution_count": 48,
   "id": "cdaca4f5",
   "metadata": {},
   "outputs": [
    {
     "data": {
      "text/plain": [
       "'name1,name2,name3'"
      ]
     },
     "execution_count": 48,
     "metadata": {},
     "output_type": "execute_result"
    }
   ],
   "source": [
    "l1=\"name1.@gmail.com,name2.@gmail.com,name3.@gmail.com\"\n",
    "l2=l1.split(\".@gmail.com\")\n",
    "\"\".join(l2)"
   ]
  },
  {
   "cell_type": "code",
   "execution_count": 63,
   "id": "f457db00",
   "metadata": {},
   "outputs": [
    {
     "name": "stdout",
     "output_type": "stream",
     "text": [
      "enter the name=mynameissan\n",
      "mei\n"
     ]
    }
   ],
   "source": [
    "#9.Given a string of odd length greater that 9, return a new string made of the middle three characters of a given StringEx:- “mynameissanOutput:- “mei”\n",
    "name=input(\"enter the name=\")\n",
    "#r=[name(len(name))/2:(len(name))/2-1][name(len(name))/2+1]\n",
    "r=(name[len(name)//2-1]+name[len(name)//2:len(name)//2+2])\n",
    "\n",
    "print(r)\n"
   ]
  },
  {
   "cell_type": "code",
   "execution_count": 72,
   "id": "5df6d939",
   "metadata": {},
   "outputs": [
    {
     "name": "stdout",
     "output_type": "stream",
     "text": [
      "enter the datamynameissan\n"
     ]
    },
    {
     "data": {
      "text/plain": [
       "'mei'"
      ]
     },
     "execution_count": 72,
     "metadata": {},
     "output_type": "execute_result"
    }
   ],
   "source": [
    "name=input(\"enter the data\")\n",
    "#mynameissan\n",
    "name[len(name)//2-1]+name[len(name)//2:len(name)//2+2]"
   ]
  },
  {
   "cell_type": "code",
   "execution_count": 73,
   "id": "7050a868",
   "metadata": {},
   "outputs": [
    {
     "name": "stdout",
     "output_type": "stream",
     "text": [
      "['dont', 'panic']\n"
     ]
    }
   ],
   "source": [
    "st=\"dont panic\"\n",
    "r=st.split()\n",
    "print(r)"
   ]
  },
  {
   "cell_type": "code",
   "execution_count": 75,
   "id": "e9adfe46",
   "metadata": {},
   "outputs": [
    {
     "data": {
      "text/plain": [
       "'msayn'"
      ]
     },
     "execution_count": 75,
     "metadata": {},
     "output_type": "execute_result"
    }
   ],
   "source": [
    "str1=\"myn\"\n",
    "str2=\"sa\"\n",
    "str1[0]+str2[0:]+str1[1:]\n"
   ]
  },
  {
   "cell_type": "code",
   "execution_count": 84,
   "id": "87d4a7df",
   "metadata": {},
   "outputs": [
    {
     "name": "stdout",
     "output_type": "stream",
     "text": [
      "enter ur string =abcdefghijklmnopqrstuvwxyz\n",
      "['b', 'c', 'd', 'f', 'g', 'h', 'j', 'k', 'l', 'm', 'n', 'p', 'q', 'r', 's', 't', 'v', 'w', 'x', 'y', 'z']\n"
     ]
    },
    {
     "data": {
      "text/plain": [
       "'b c d f g h j k l m n p q r s t v w x y z'"
      ]
     },
     "execution_count": 84,
     "metadata": {},
     "output_type": "execute_result"
    }
   ],
   "source": [
    "#Write a program to remove vowels from the entire alphabets Ex:- “abcdefghijklmnopqrstuvwxyz”Output:- “bcdfghjklmnpqrstvwxyz”\n",
    "q=input(\"enter ur string =\")\n",
    "r=q.split()\n",
    "vowel=[\"a\",\"e\",\"i\",\"o\",\"u\"]\n",
    "result1=[]\n",
    "for i in q:\n",
    "    if i not in vowel:\n",
    "        result1.append(i)\n",
    "print(result1)\n",
    "\" \".join(result1)\n",
    "    \n",
    "\n",
    "\n",
    "\n",
    "\n"
   ]
  },
  {
   "cell_type": "code",
   "execution_count": 97,
   "id": "2fa2bfe3",
   "metadata": {},
   "outputs": [
    {
     "data": {
      "text/plain": [
       "\"{'n', 'g', 'd', 'l', 'r', 'j', 'x', 't', 'w', 'c', 'f', 'k', 'b', 'z', 'q', 'h', 'v', 'y', 'p', 'm', 's'}\""
      ]
     },
     "execution_count": 97,
     "metadata": {},
     "output_type": "execute_result"
    }
   ],
   "source": [
    "text=(\"abcdefghijklmnopqrstuvwxyz\")\n",
    "r=set(text)\n",
    "q={'a','e','i','o','u'}\n",
    "r.difference_update(q)\n",
    "str(r)"
   ]
  },
  {
   "cell_type": "code",
   "execution_count": 94,
   "id": "10ca5374",
   "metadata": {},
   "outputs": [
    {
     "data": {
      "text/plain": [
       "21"
      ]
     },
     "execution_count": 94,
     "metadata": {},
     "output_type": "execute_result"
    }
   ],
   "source": [
    "len(r)"
   ]
  },
  {
   "cell_type": "code",
   "execution_count": null,
   "id": "e65c99e5",
   "metadata": {},
   "outputs": [],
   "source": []
  }
 ],
 "metadata": {
  "kernelspec": {
   "display_name": "Python 3 (ipykernel)",
   "language": "python",
   "name": "python3"
  },
  "language_info": {
   "codemirror_mode": {
    "name": "ipython",
    "version": 3
   },
   "file_extension": ".py",
   "mimetype": "text/x-python",
   "name": "python",
   "nbconvert_exporter": "python",
   "pygments_lexer": "ipython3",
   "version": "3.9.13"
  }
 },
 "nbformat": 4,
 "nbformat_minor": 5
}
